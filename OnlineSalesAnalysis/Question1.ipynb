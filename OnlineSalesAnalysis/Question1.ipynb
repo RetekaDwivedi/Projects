{
 "cells": [
  {
   "cell_type": "code",
   "execution_count": 1,
   "metadata": {},
   "outputs": [],
   "source": [
    "import pandas as pd\n",
    "import numpy as np\n",
    "df_fashion = pd.read_excel('Fashion - Assignment Data.xlsx')\n"
   ]
  },
  {
   "cell_type": "code",
   "execution_count": 2,
   "metadata": {},
   "outputs": [
    {
     "name": "stdout",
     "output_type": "stream",
     "text": [
      "Total Sales: 101332\n",
      "Total Revenue: 6699843.719999995\n"
     ]
    }
   ],
   "source": [
    "df_fashion = df_fashion[df_fashion['Number_of_Products'].isin([\"undefined\"]) == False]\n",
    "df_fashion['Total_products'] = df_fashion['Number_of_Products'].astype(str).apply(lambda x: sum(map(int, x.split(','))))\n",
    "total_products_sold = df_fashion['Total_products'].sum()\n",
    "print(\"Total Sales:\", end=\" \")\n",
    "print(total_products_sold)\n",
    "revenue_sum = df_fashion['Revenue'].astype(float).sum()\n",
    "print(\"Total Revenue:\", end=\" \")\n",
    "print(revenue_sum)"
   ]
  },
  {
   "cell_type": "code",
   "execution_count": 3,
   "metadata": {},
   "outputs": [
    {
     "name": "stdout",
     "output_type": "stream",
     "text": [
      "Average Revenue: 134.03976712548007\n",
      "Average unique quantity per order: 1.9743517925736236\n"
     ]
    }
   ],
   "source": [
    "avg_revenue = revenue_sum/len(df_fashion['Revenue'])\n",
    "print(\"Average Revenue:\", end=\" \")\n",
    "print(avg_revenue)\n",
    "unique_qty = df_fashion['Number_of_Products'].astype(str).apply(lambda x: len(x.split(',')))\n",
    "avg_unique_qty = unique_qty.sum()/len(unique_qty)\n",
    "print(\"Average unique quantity per order:\", end=\" \")\n",
    "print(avg_unique_qty)"
   ]
  },
  {
   "cell_type": "code",
   "execution_count": 4,
   "metadata": {},
   "outputs": [],
   "source": [
    "new = df_fashion[\"timestamp\"].astype(str).str.split(\" \", n = 1, expand = True)\n",
    "df_fashion[\"Date\"] = new[0]\n",
    "df_fashion[\"Time\"] = new[1].astype(str).str.split(\":\", n = 1, expand = True)[0]\n",
    "df_fashion['Date'] = pd.to_datetime(df_fashion['Date'])\n",
    "df_fashion['Day'] = df_fashion['Date'].dt.day_name()\n"
   ]
  },
  {
   "cell_type": "code",
   "execution_count": 10,
   "metadata": {},
   "outputs": [
    {
     "ename": "AttributeError",
     "evalue": "'SeriesGroupBy' object has no attribute 'astype'",
     "output_type": "error",
     "traceback": [
      "\u001b[1;31m---------------------------------------------------------------------------\u001b[0m",
      "\u001b[1;31mAttributeError\u001b[0m                            Traceback (most recent call last)",
      "\u001b[1;32m<ipython-input-10-f5cf1b524568>\u001b[0m in \u001b[0;36m<module>\u001b[1;34m\u001b[0m\n\u001b[0;32m     13\u001b[0m     \u001b[0mprint\u001b[0m\u001b[1;33m(\u001b[0m\u001b[1;34m\"Sales and Revenue from high to low with respect \"\u001b[0m \u001b[1;33m+\u001b[0m \u001b[0mdisplay\u001b[0m\u001b[1;33m)\u001b[0m\u001b[1;33m\u001b[0m\u001b[1;33m\u001b[0m\u001b[0m\n\u001b[0;32m     14\u001b[0m     \u001b[0mprint\u001b[0m\u001b[1;33m(\u001b[0m\u001b[0mdf2\u001b[0m\u001b[1;33m)\u001b[0m\u001b[1;33m\u001b[0m\u001b[1;33m\u001b[0m\u001b[0m\n\u001b[1;32m---> 15\u001b[1;33m \u001b[0mcompute\u001b[0m\u001b[1;33m(\u001b[0m\u001b[0mdf_fashion\u001b[0m\u001b[1;33m,\u001b[0m\u001b[1;34m'Day'\u001b[0m\u001b[1;33m,\u001b[0m\u001b[1;34m'days of the week'\u001b[0m\u001b[1;33m)\u001b[0m\u001b[1;33m\u001b[0m\u001b[1;33m\u001b[0m\u001b[0m\n\u001b[0m\u001b[0;32m     16\u001b[0m \u001b[0mcompute\u001b[0m\u001b[1;33m(\u001b[0m\u001b[0mdf_fashion\u001b[0m\u001b[1;33m,\u001b[0m\u001b[1;34m'Time'\u001b[0m\u001b[1;33m,\u001b[0m\u001b[1;34m'time of the day'\u001b[0m\u001b[1;33m)\u001b[0m\u001b[1;33m\u001b[0m\u001b[1;33m\u001b[0m\u001b[0m\n\u001b[0;32m     17\u001b[0m \u001b[0mcompute\u001b[0m\u001b[1;33m(\u001b[0m\u001b[0mdf_fashion\u001b[0m\u001b[1;33m,\u001b[0m\u001b[1;34m'Country'\u001b[0m\u001b[1;33m,\u001b[0m\u001b[1;34m'country'\u001b[0m\u001b[1;33m)\u001b[0m\u001b[1;33m\u001b[0m\u001b[1;33m\u001b[0m\u001b[0m\n",
      "\u001b[1;32m<ipython-input-10-f5cf1b524568>\u001b[0m in \u001b[0;36mcompute\u001b[1;34m(df, group_by, display)\u001b[0m\n\u001b[0;32m      6\u001b[0m     \u001b[1;31m#sales = df.groupby([group_by])['Total_products'].mean\u001b[0m\u001b[1;33m\u001b[0m\u001b[1;33m\u001b[0m\u001b[1;33m\u001b[0m\u001b[0m\n\u001b[0;32m      7\u001b[0m     \u001b[1;31m#print(sales_by_day)\u001b[0m\u001b[1;33m\u001b[0m\u001b[1;33m\u001b[0m\u001b[1;33m\u001b[0m\u001b[0m\n\u001b[1;32m----> 8\u001b[1;33m     \u001b[0mrevenue\u001b[0m \u001b[1;33m=\u001b[0m \u001b[0mdf\u001b[0m\u001b[1;33m.\u001b[0m\u001b[0mgroupby\u001b[0m\u001b[1;33m(\u001b[0m\u001b[1;33m[\u001b[0m\u001b[0mgroup_by\u001b[0m\u001b[1;33m]\u001b[0m\u001b[1;33m)\u001b[0m\u001b[1;33m[\u001b[0m\u001b[1;34m'Revenue'\u001b[0m\u001b[1;33m]\u001b[0m\u001b[1;33m.\u001b[0m\u001b[0mastype\u001b[0m\u001b[1;33m(\u001b[0m\u001b[0mint\u001b[0m\u001b[1;33m)\u001b[0m\u001b[1;33m.\u001b[0m\u001b[0magg\u001b[0m\u001b[1;33m(\u001b[0m\u001b[0mnp\u001b[0m\u001b[1;33m.\u001b[0m\u001b[0mmean\u001b[0m\u001b[1;33m)\u001b[0m\u001b[1;33m\u001b[0m\u001b[1;33m\u001b[0m\u001b[0m\n\u001b[0m\u001b[0;32m      9\u001b[0m     \u001b[1;31m#print(revenue_by_day)\u001b[0m\u001b[1;33m\u001b[0m\u001b[1;33m\u001b[0m\u001b[1;33m\u001b[0m\u001b[0m\n\u001b[0;32m     10\u001b[0m     \u001b[0mdf2\u001b[0m \u001b[1;33m=\u001b[0m \u001b[0mpd\u001b[0m\u001b[1;33m.\u001b[0m\u001b[0mconcat\u001b[0m\u001b[1;33m(\u001b[0m\u001b[1;33m[\u001b[0m\u001b[0msales\u001b[0m\u001b[1;33m,\u001b[0m \u001b[0mrevenue\u001b[0m\u001b[1;33m]\u001b[0m\u001b[1;33m,\u001b[0m \u001b[0maxis\u001b[0m\u001b[1;33m=\u001b[0m\u001b[1;36m1\u001b[0m\u001b[1;33m)\u001b[0m\u001b[1;33m\u001b[0m\u001b[1;33m\u001b[0m\u001b[0m\n",
      "\u001b[1;32m~\\anaconda3\\lib\\site-packages\\pandas\\core\\groupby\\groupby.py\u001b[0m in \u001b[0;36m__getattr__\u001b[1;34m(self, attr)\u001b[0m\n\u001b[0;32m    578\u001b[0m \u001b[1;33m\u001b[0m\u001b[0m\n\u001b[0;32m    579\u001b[0m         raise AttributeError(\n\u001b[1;32m--> 580\u001b[1;33m             \u001b[1;34mf\"'{type(self).__name__}' object has no attribute '{attr}'\"\u001b[0m\u001b[1;33m\u001b[0m\u001b[1;33m\u001b[0m\u001b[0m\n\u001b[0m\u001b[0;32m    581\u001b[0m         )\n\u001b[0;32m    582\u001b[0m \u001b[1;33m\u001b[0m\u001b[0m\n",
      "\u001b[1;31mAttributeError\u001b[0m: 'SeriesGroupBy' object has no attribute 'astype'"
     ]
    }
   ],
   "source": [
    "def compute(df,group_by,display):\n",
    "    #sales = df.groupby([group_by])['Total_products'].sum()\n",
    "    #print(sales_by_day)\n",
    "    #revenue = df.groupby([group_by])['Revenue'].sum()\n",
    "    sales = df.groupby([group_by])['Total_products'].agg(np.mean)\n",
    "    #sales = df.groupby([group_by])['Total_products'].mean\n",
    "    #print(sales_by_day)\n",
    "    revenue = df.groupby([group_by])['Revenue'].astype(int).agg(np.mean)\n",
    "    #print(revenue_by_day)\n",
    "    df2 = pd.concat([sales, revenue], axis=1)\n",
    "    #print(df_day)\n",
    "    df2.sort_values(\"Revenue\", axis = 0, ascending = False, inplace = True, na_position ='first')\n",
    "    print(\"Sales and Revenue from high to low with respect \" + display)\n",
    "    print(df2)\n",
    "compute(df_fashion,'Day','days of the week')\n",
    "compute(df_fashion,'Time','time of the day')\n",
    "compute(df_fashion,'Country','country')\n",
    "compute(df_fashion,'Payment_Type','payment type')"
   ]
  },
  {
   "cell_type": "code",
   "execution_count": 7,
   "metadata": {},
   "outputs": [
    {
     "name": "stdout",
     "output_type": "stream",
     "text": [
      "Total number of unique single purchasers (users who have purchased the products from the website once): 39778\n",
      "Total number of unique multiple purchasers (users who have purchased the products from the website more than once): 4311\n",
      "Average Frequency of multipurchases by a user(multiple purchaser user) in first half of October 17: 2.3674321503131526\n"
     ]
    }
   ],
   "source": [
    "single_purchasers = ((df_fashion['user ID'].value_counts() == 1).value_counts())\n",
    "print(\"Total number of unique single purchasers (users who have purchased the products from the website once):\", end=\" \")\n",
    "print(single_purchasers[1])\n",
    "print(\"Total number of unique multiple purchasers (users who have purchased the products from the website more than once):\", end=\" \")\n",
    "print(single_purchasers[0])\n",
    "frequency_multiple = df_fashion.groupby('user ID').size()\n",
    "#print(frequency_multiple.head())\n",
    "df_frequency = frequency_multiple.to_frame()\n",
    "#print(df_frequency.head())\n",
    "df_frequency['Multiple'] = df_frequency[0]>1\n",
    "multiple = df_frequency[df_frequency['Multiple'].astype(str).isin(['True'])]\n",
    "#print(multiple[0].head())\n",
    "avg_frequency = multiple[0].sum()/len(multiple)\n",
    "print(\"Average Frequency of multipurchases by a user(multiple purchaser user) in first half of October 17:\", end=\" \")\n",
    "print(avg_frequency)"
   ]
  },
  {
   "cell_type": "code",
   "execution_count": null,
   "metadata": {},
   "outputs": [],
   "source": []
  }
 ],
 "metadata": {
  "kernelspec": {
   "display_name": "Python 3",
   "language": "python",
   "name": "python3"
  },
  "language_info": {
   "codemirror_mode": {
    "name": "ipython",
    "version": 3
   },
   "file_extension": ".py",
   "mimetype": "text/x-python",
   "name": "python",
   "nbconvert_exporter": "python",
   "pygments_lexer": "ipython3",
   "version": "3.7.6"
  }
 },
 "nbformat": 4,
 "nbformat_minor": 4
}
