{
 "cells": [
  {
   "cell_type": "code",
   "execution_count": 1,
   "metadata": {},
   "outputs": [],
   "source": [
    "import pandas as pd\n",
    "import numpy as np\n",
    "import datetime as dt\n",
    "import math\n",
    "require_cols = ['user ID','Revenue']\n",
    "df_fashion = pd.read_excel('Fashion - Assignment Data.xlsx',usecols = require_cols)"
   ]
  },
  {
   "cell_type": "code",
   "execution_count": 2,
   "metadata": {},
   "outputs": [
    {
     "name": "stdout",
     "output_type": "stream",
     "text": [
      "user ID\n",
      "0    18463.44\n",
      "1      113.55\n",
      "2       81.78\n",
      "3       63.63\n",
      "4       81.77\n",
      "Name: Revenue, dtype: float64\n"
     ]
    }
   ],
   "source": [
    "df_fashion = df_fashion[df_fashion['Revenue'].isin([\"undefined\"]) == False]\n",
    "user_by_revenue = df_fashion.groupby('user ID')['Revenue'].sum()\n",
    "print(user_by_revenue.head())"
   ]
  },
  {
   "cell_type": "code",
   "execution_count": 3,
   "metadata": {},
   "outputs": [
    {
     "name": "stdout",
     "output_type": "stream",
     "text": [
      "   user ID   Revenue  rating\n",
      "0        0  18463.44       5\n",
      "1    13059   5387.71       5\n",
      "2    24776   3992.35       5\n",
      "3     1407   3691.50       5\n",
      "4    25700   3523.04       5\n"
     ]
    }
   ],
   "source": [
    "revenue_sorted = user_by_revenue.sort_values(ascending=False)\n",
    "batch_size = math.ceil(len(revenue_sorted)/5)\n",
    "df_model_revenue = revenue_sorted.to_frame().reset_index()\n",
    "df_model_revenue['rating'] = 0\n",
    "for i in df_model_revenue.index:\n",
    "    if i < batch_size:\n",
    "        df_model_revenue.at[i,\"rating\"] = 5\n",
    "    elif i>=batch_size*1 and i<batch_size*2:\n",
    "        df_model_revenue.at[i,\"rating\"] = 4\n",
    "    elif i>=batch_size*2 and i<batch_size*3:\n",
    "        df_model_revenue.at[i,\"rating\"] = 3\n",
    "    elif i>=batch_size*3 and i<batch_size*4:\n",
    "        df_model_revenue.at[i,\"rating\"] = 2\n",
    "    else:\n",
    "        df_model_revenue.at[i,\"rating\"] = 1\n",
    "print(df_model_revenue.head())"
   ]
  },
  {
   "cell_type": "code",
   "execution_count": 7,
   "metadata": {},
   "outputs": [
    {
     "name": "stdout",
     "output_type": "stream",
     "text": [
      "The following list of users are super users : [    0 13059 24776  1407 25700]\n",
      "The following list of users are potential super users : [30280 24784 40244 36690 22740]\n",
      "The following list of users are attention needing users : [19948 22282 23585 11934 37993]\n",
      "The following list of users are at risk users : [33602  5607 25468 26636 38827]\n",
      "The following list of users are lost users : [11626  4898 15783 20930 30842]\n"
     ]
    }
   ],
   "source": [
    "def compute(df_model,users_category,rating_value):\n",
    "    df_users = df_model[df_model['rating'].isin([rating_value])]\n",
    "    user_variable = df_users['user ID']\n",
    "    print(\"The following list of users are \" + users_category + \" :\", end =\" \")\n",
    "    #Displaying only five elements from list containing 8818 elements\n",
    "    #uncomment te below to see entire list\n",
    "    #print(user_variable)\n",
    "    print(user_variable.values[:5])\n",
    "compute(df_model_revenue,'super users',5)\n",
    "compute(df_model_revenue,'potential super users',4)\n",
    "compute(df_model_revenue,'attention needing users',3)\n",
    "compute(df_model_revenue,'at risk users',2)\n",
    "compute(df_model_revenue,'lost users',1)"
   ]
  }
 ],
 "metadata": {
  "kernelspec": {
   "display_name": "Python 3",
   "language": "python",
   "name": "python3"
  },
  "language_info": {
   "codemirror_mode": {
    "name": "ipython",
    "version": 3
   },
   "file_extension": ".py",
   "mimetype": "text/x-python",
   "name": "python",
   "nbconvert_exporter": "python",
   "pygments_lexer": "ipython3",
   "version": "3.7.6"
  }
 },
 "nbformat": 4,
 "nbformat_minor": 4
}
