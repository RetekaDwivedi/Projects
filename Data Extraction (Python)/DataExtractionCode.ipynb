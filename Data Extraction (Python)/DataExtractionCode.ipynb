{
 "cells": [
  {
   "cell_type": "code",
   "execution_count": 1,
   "metadata": {},
   "outputs": [
    {
     "name": "stdout",
     "output_type": "stream",
     "text": [
      "640\n",
      "             Latitude           Longitude                          MarkerID\n",
      "0  19.041691972000024   72.85052482000003  9795626cfd584471ab4406d756a00baf\n",
      "1  19.047690380000063   72.85787174600006  82a31b114c0243859e73c4f5f1332554\n",
      "2  19.039267403000053   72.85491353500004  0e93001008714f1da3c40e3317183810\n",
      "3   19.04372482200006   72.85004247900008  a41b90c2ea4a405b8a35811cd094ea68\n",
      "4  19.017987179000045   72.81980024300003  3e13bed860e9471d9a1323cffd3b6129\n"
     ]
    }
   ],
   "source": [
    "import pandas as pd\n",
    "import math\n",
    "with open('BMC-ContainmentZones.js') as file:\n",
    "    lines = file.readlines()\n",
    "data = []\n",
    "match = 'L.marker('\n",
    "start_marker = 'marker_'\n",
    "end_marker = ' ='\n",
    "start_lat = '['\n",
    "end_lat = ', '\n",
    "start_long = ','\n",
    "end_long = ']'\n",
    "count = 0\n",
    "for line in lines:\n",
    "    dataset = []\n",
    "    if match in line and count!=(len(lines)-1):\n",
    "        marker_id = line[line.find(start_marker)+len(start_marker):line.rfind(end_marker)]\n",
    "        nextline = lines[count+1]\n",
    "        latitude = nextline[nextline.find(start_lat)+len(start_lat):nextline.rfind(end_lat)]\n",
    "        longitude = nextline[nextline.find(start_long)+len(start_long):nextline.rfind(end_long)]\n",
    "        dataset.append(latitude)\n",
    "        dataset.append(longitude)\n",
    "        dataset.append(marker_id)\n",
    "    if len(dataset)!=0:\n",
    "        data.append(dataset)\n",
    "    count+=1\n",
    "df = pd.DataFrame(data, columns = ['Latitude', 'Longitude', 'MarkerID'])\n",
    "print(len(df.index))\n",
    "print(df.head())"
   ]
  }
 ],
 "metadata": {
  "kernelspec": {
   "display_name": "Python 3",
   "language": "python",
   "name": "python3"
  },
  "language_info": {
   "codemirror_mode": {
    "name": "ipython",
    "version": 3
   },
   "file_extension": ".py",
   "mimetype": "text/x-python",
   "name": "python",
   "nbconvert_exporter": "python",
   "pygments_lexer": "ipython3",
   "version": "3.7.6"
  }
 },
 "nbformat": 4,
 "nbformat_minor": 4
}
